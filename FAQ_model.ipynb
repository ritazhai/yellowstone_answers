{
 "cells": [
  {
   "cell_type": "code",
   "execution_count": null,
   "metadata": {
    "collapsed": true
   },
   "outputs": [],
   "source": [
    "import keras\n",
    "import nltk\n",
    "import pandas as pd\n",
    "import numpy as np\n",
    "import re"
   ]
  },
  {
   "cell_type": "code",
   "execution_count": null,
   "metadata": {
    "collapsed": true
   },
   "outputs": [],
   "source": [
    "df = pd.read_csv(\"qa_paris.csv\")"
   ]
  },
  {
   "cell_type": "code",
   "execution_count": null,
   "metadata": {
    "collapsed": true
   },
   "outputs": [],
   "source": [
    "from bert_serving.client import BertClient\n",
    "bc = BertClient()"
   ]
  },
  {
   "cell_type": "code",
   "execution_count": null,
   "metadata": {
    "collapsed": true
   },
   "outputs": [],
   "source": [
    "q_vecs = bc.encode(df.question.tolist())\n",
    "a_vecs = bc.encode(df.answer.tolist())\n",
    "print(q_vecs.shape)\n",
    "print(a_vecs.shape)"
   ]
  },
  {
   "cell_type": "code",
   "execution_count": null,
   "metadata": {
    "collapsed": true
   },
   "outputs": [],
   "source": [
    "from sklearn.ensemble import RandomForestClassifier\n",
    "from sklearn.linear_model import LogisticRegression\n",
    "from sklearn.model_selection import train_test_split"
   ]
  },
  {
   "cell_type": "code",
   "execution_count": null,
   "metadata": {
    "collapsed": true
   },
   "outputs": [],
   "source": [
    "x = np.hstack([q_vecs, a_vecs])\n",
    "y = df.label.values\n",
    "x_trn, x_dev, y_trn, y_dev = train_test_split(\n",
    "    x, y, stratify=y, test_size=0.2, random_state=66\n",
    ")\n",
    "print(x_trn.shape)"
   ]
  },
  {
   "cell_type": "code",
   "execution_count": 228,
   "metadata": {
    "collapsed": true
   },
   "outputs": [],
   "source": [
    "rfc = RandomForestClassifier(n_estimators=40)\n",
    "rfc.fit(x_trn, y_trn)\n",
    "y_pred = rfc.predict(x_dev)"
   ]
  },
  {
   "cell_type": "code",
   "execution_count": null,
   "metadata": {
    "collapsed": true
   },
   "outputs": [],
   "source": [
    "lr = LogisticRegression(C=10)\n",
    "lr.fit(x_trn, y_trn)\n",
    "y_lr = lr.predict(x_dev)"
   ]
  },
  {
   "cell_type": "code",
   "execution_count": null,
   "metadata": {},
   "outputs": [],
   "source": [
    "from sklearn.metrics import precision_score, recall_score, f1_score, accuracy_score\n",
    "def get_metrics(y_test, y_predicted):  \n",
    "    # true positives / (true positives+false positives)\n",
    "    precision = precision_score(y_test, y_predicted, pos_label=None,\n",
    "                                    average='weighted')             \n",
    "    # true positives / (true positives + false negatives)\n",
    "    recall = recall_score(y_test, y_predicted, pos_label=None,\n",
    "                              average='weighted')\n",
    "    \n",
    "    # harmonic mean of precision and recall\n",
    "    f1 = f1_score(y_test, y_predicted, pos_label=None, average='weighted')\n",
    "    \n",
    "    # true positives + true negatives/ total\n",
    "    accuracy = accuracy_score(y_test, y_predicted)\n",
    "    return accuracy, precision, recall, f1\n",
    "\n",
    "accuracy_tfidf, precision_tfidf, recall_tfidf, f1_tfidf = get_metrics(y_dev, y_pred)\n",
    "print(\"accuracy = %.3f, precision = %.3f, recall = %.3f, f1 = %.3f\" % (accuracy_tfidf, precision_tfidf, \n",
    "                                                                       recall_tfidf, f1_tfidf))"
   ]
  },
  {
   "cell_type": "code",
   "execution_count": null,
   "metadata": {
    "collapsed": true
   },
   "outputs": [],
   "source": [
    "accuracy_tfidf, precision_tfidf, recall_tfidf, f1_tfidf = get_metrics(y_dev, y_lr)\n",
    "print(\"accuracy = %.3f, precision = %.3f, recall = %.3f, f1 = %.3f\" % (accuracy_tfidf, precision_tfidf, \n",
    "                                                                       recall_tfidf, f1_tfidf))"
   ]
  },
  {
   "cell_type": "code",
   "execution_count": null,
   "metadata": {
    "collapsed": true
   },
   "outputs": [],
   "source": [
    "import matplotlib.pyplot as plt\n",
    "from sklearn.metrics import roc_auc_score, roc_curve\n",
    "y_predicted = lr.predict_proba(x_dev)\n",
    "probs = y_predicted[:, 0]\n",
    "# calculate AUC\n",
    "auc = roc_auc_score(y_dev, probs)\n",
    "print('AUC: %.3f' % auc)\n",
    "# calculate roc curve\n",
    "fpr, tpr, thresholds = roc_curve(y_dev, probs)\n",
    "# plot no skill\n",
    "plt.plot([0, 1], [0, 1], linestyle='--')\n",
    "# plot the roc curve for the model\n",
    "plt.plot(fpr, tpr, marker='.')\n",
    "# show the plot\n",
    "plt.show()"
   ]
  },
  {
   "cell_type": "code",
   "execution_count": null,
   "metadata": {
    "collapsed": true
   },
   "outputs": [],
   "source": [
    "df.label.value_counts()"
   ]
  },
  {
   "cell_type": "code",
   "execution_count": null,
   "metadata": {
    "collapsed": true
   },
   "outputs": [],
   "source": [
    "df = pd.read_excel(\"ys.xlsx\")\n",
    "df.shape"
   ]
  },
  {
   "cell_type": "code",
   "execution_count": null,
   "metadata": {
    "collapsed": true
   },
   "outputs": [],
   "source": [
    "# create negative samples\n",
    "df_one = df[['question', 'answer']]\n",
    "df_one['label'] = 1\n",
    "zero_questions = []\n",
    "zero_answers = []\n",
    "question_list = list(df.question)\n",
    "answer_list = list(df.answer)\n",
    "for i, question in enumerate(question_list):\n",
    "    sampled_answers = np.random.choice(answer_list, 20, replace=False)\n",
    "    for j in range(20):\n",
    "        if answer_list[i] != sampled_answers[j]:\n",
    "            zero_questions.append(question)\n",
    "            zero_answers.append(sampled_answers[j])\n",
    "            \n",
    "df_zero = pd.DataFrame({'question': zero_questions,\n",
    "                       'answer': zero_answers,\n",
    "                       'label': 0})"
   ]
  },
  {
   "cell_type": "code",
   "execution_count": null,
   "metadata": {
    "collapsed": true
   },
   "outputs": [],
   "source": [
    "df_total = pd.concat([df_one, df_zero], ignore_index=True)\n",
    "df_total.shape"
   ]
  },
  {
   "cell_type": "code",
   "execution_count": null,
   "metadata": {
    "collapsed": true
   },
   "outputs": [],
   "source": [
    "# split some for testing\n",
    "from sklearn.model_selection import train_test_split\n",
    "\n",
    "df_trn, df_te, _, _ = train_test_split(\n",
    "    df_total, df_total, stratify=df_total.label,\n",
    "    test_size=0.15, random_state=99\n",
    ")\n",
    "print(f\"there are {df_trn.shape[0]} of training samples\")\n",
    "print(f\"there are {df_te.shape[0]} of testing samples\")"
   ]
  },
  {
   "cell_type": "code",
   "execution_count": null,
   "metadata": {
    "collapsed": true
   },
   "outputs": [],
   "source": [
    "# get the unique answers for prediction use\n",
    "unique_answers = df_total.answer.unique()"
   ]
  },
  {
   "cell_type": "code",
   "execution_count": 109,
   "metadata": {},
   "outputs": [
    {
     "data": {
      "text/plain": [
       "(281,)"
      ]
     },
     "execution_count": 109,
     "metadata": {},
     "output_type": "execute_result"
    }
   ],
   "source": [
    "unique_answers.shape"
   ]
  },
  {
   "cell_type": "code",
   "execution_count": null,
   "metadata": {
    "collapsed": true
   },
   "outputs": [],
   "source": [
    "# over sample positive samples\n",
    "trn_ones = df_trn[df_trn['label'] == 1]\n",
    "# add 6 times of positive samples to the training\n",
    "trn_oversample = pd.concat([trn_ones for _ in range(6)], axis=0, ignore_index=True)\n",
    "df_trn = pd.concat([df_trn, trn_oversample], axis=0, ignore_index=True)\n",
    "# after adding positive samples, do the shuffling\n",
    "df_trn = df_trn.sample(frac=1.0)\n",
    "print(f\"there are {df_trn.shape[0]} of training samples\")\n"
   ]
  },
  {
   "cell_type": "code",
   "execution_count": null,
   "metadata": {
    "collapsed": true
   },
   "outputs": [],
   "source": [
    "df_trn.to_csv('trn_oversampled.csv')"
   ]
  },
  {
   "cell_type": "code",
   "execution_count": null,
   "metadata": {
    "collapsed": true
   },
   "outputs": [],
   "source": [
    "df_te.to_csv('te_corresponed.csv')"
   ]
  },
  {
   "cell_type": "code",
   "execution_count": 107,
   "metadata": {
    "collapsed": true
   },
   "outputs": [],
   "source": [
    "un_ans_embs = bc.encode(unique_answers.tolist())"
   ]
  },
  {
   "cell_type": "code",
   "execution_count": null,
   "metadata": {
    "collapsed": true
   },
   "outputs": [],
   "source": [
    "# use bert to calculate question embeddings and answer embeddings\n",
    "# trn_q_embs = bc.encode(df_trn.question.tolist())\n",
    "trn_a_embs = bc.encode(df_trn.answer.tolist())\n",
    "# te_q_embs = bc.encode(df_te.question.tolist())\n",
    "te_a_embs = bc.encode(df_te.answer.tolist())"
   ]
  },
  {
   "cell_type": "code",
   "execution_count": 110,
   "metadata": {
    "collapsed": true
   },
   "outputs": [],
   "source": [
    "ans_idx = {ans: i for i, ans in enumerate(unique_answers.tolist())}"
   ]
  },
  {
   "cell_type": "code",
   "execution_count": 114,
   "metadata": {
    "collapsed": true
   },
   "outputs": [],
   "source": [
    "import pickle\n",
    "with open(\"ans_to_idx.pkl\", \"wb\") as f:\n",
    "    pickle.dump(ans_idx, f)"
   ]
  },
  {
   "cell_type": "code",
   "execution_count": 240,
   "metadata": {},
   "outputs": [
    {
     "data": {
      "text/plain": [
       "281"
      ]
     },
     "execution_count": 240,
     "metadata": {},
     "output_type": "execute_result"
    }
   ],
   "source": [
    "len(un_ans_embs)"
   ]
  },
  {
   "cell_type": "code",
   "execution_count": 157,
   "metadata": {
    "collapsed": true
   },
   "outputs": [],
   "source": [
    "ans_list = unique_answers.tolist()"
   ]
  },
  {
   "cell_type": "code",
   "execution_count": 115,
   "metadata": {
    "collapsed": true
   },
   "outputs": [],
   "source": [
    "np.save(\"unique_ans_embs.npy\", un_ans_embs)"
   ]
  },
  {
   "cell_type": "code",
   "execution_count": 118,
   "metadata": {},
   "outputs": [
    {
     "name": "stdout",
     "output_type": "stream",
     "text": [
      "(7185, 768)\n"
     ]
    }
   ],
   "source": [
    "trn_ans_embs = np.array([un_ans_embs[ans_idx[a]] for a in df_trn.answer])\n",
    "te_ans_embs = np.array([un_ans_embs[ans_idx[a]] for a in df_te.answer])\n",
    "print(trn_ans_embs.shape)"
   ]
  },
  {
   "cell_type": "code",
   "execution_count": 122,
   "metadata": {},
   "outputs": [
    {
     "name": "stdout",
     "output_type": "stream",
     "text": [
      "(7185,)\n"
     ]
    }
   ],
   "source": [
    "def cos(a, b):\n",
    "    return np.dot(a, b) / (np.linalg.norm(a) * np.linalg.norm(b))\n",
    "trn_qa_sim = np.array([cos(trn_q_embs[i], trn_ans_embs[i]) for i in range(len(trn_q_embs))])\n",
    "te_qa_sim = np.array([cos(te_q_embs[i], te_ans_embs[i]) for i in range(len(te_q_embs))])\n",
    "print(trn_qa_sim.shape)"
   ]
  },
  {
   "cell_type": "code",
   "execution_count": 124,
   "metadata": {},
   "outputs": [
    {
     "data": {
      "text/plain": [
       "(7185, 768)"
      ]
     },
     "execution_count": 124,
     "metadata": {},
     "output_type": "execute_result"
    }
   ],
   "source": [
    "trn_q_embs.shape"
   ]
  },
  {
   "cell_type": "code",
   "execution_count": 125,
   "metadata": {},
   "outputs": [
    {
     "name": "stdout",
     "output_type": "stream",
     "text": [
      "training data shape: (7185, 1537)\n"
     ]
    }
   ],
   "source": [
    "trn_x = np.hstack([trn_q_embs, trn_ans_embs, trn_qa_sim.reshape(-1, 1)])\n",
    "print(\"training data shape: {}\".format(str(trn_x.shape)))\n",
    "te_x = np.hstack([te_q_embs, te_ans_embs, te_qa_sim.reshape(-1, 1)])\n",
    "trn_y = df_trn.label.values\n",
    "te_y = df_te.label.values"
   ]
  },
  {
   "cell_type": "code",
   "execution_count": null,
   "metadata": {
    "collapsed": true
   },
   "outputs": [],
   "source": [
    "np.save(\"trn_oversampled.npy\", trn_x)\n",
    "np.save(\"te_corresponed.npy\", te_x)"
   ]
  },
  {
   "cell_type": "code",
   "execution_count": null,
   "metadata": {
    "collapsed": true
   },
   "outputs": [],
   "source": [
    "np.save(\"y_oversampled.npy\", trn_y)\n",
    "np.save(\"y_corresponed.npy\", te_y)"
   ]
  },
  {
   "cell_type": "code",
   "execution_count": 128,
   "metadata": {
    "collapsed": true
   },
   "outputs": [],
   "source": [
    "# create model and do the training\n",
    "from sklearn.ensemble import RandomForestClassifier\n",
    "from sklearn.linear_model import LogisticRegression\n",
    "\n",
    "rfc = RandomForestClassifier(n_estimators=100)\n",
    "rfc.fit(trn_x, trn_y)\n",
    "y_pred = rfc.predict(te_x)"
   ]
  },
  {
   "cell_type": "code",
   "execution_count": null,
   "metadata": {},
   "outputs": [],
   "source": [
    "from sklearn.metrics import classification_report, roc_auc_score\n",
    "print(classification_report(te_y, y_pred))"
   ]
  },
  {
   "cell_type": "code",
   "execution_count": 185,
   "metadata": {
    "collapsed": true
   },
   "outputs": [],
   "source": [
    "r_rfc_prob = rfc.predict_proba(te_x)"
   ]
  },
  {
   "cell_type": "code",
   "execution_count": null,
   "metadata": {
    "collapsed": true
   },
   "outputs": [],
   "source": [
    "import numpy as np\n",
    "import itertools\n",
    "from sklearn.metrics import confusion_matrix"
   ]
  },
  {
   "cell_type": "code",
   "execution_count": null,
   "metadata": {
    "collapsed": true
   },
   "outputs": [],
   "source": [
    "def plot_confusion_matrix(cm, classes,\n",
    "                          normalize=False,\n",
    "                          title='Confusion matrix',\n",
    "                          cmap=plt.cm.Blues):\n",
    "    if normalize:\n",
    "        cm = cm.astype('float') / cm.sum(axis=1)[:, np.newaxis]\n",
    "        print(\"Normalized confusion matrix\")\n",
    "    else:\n",
    "        print('Confusion matrix, without normalization')\n",
    "\n",
    "    plt.imshow(cm, interpolation='nearest', cmap=cmap)\n",
    "    plt.title(title)\n",
    "    plt.colorbar()\n",
    "    tick_marks = np.arange(len(classes))\n",
    "    plt.xticks(tick_marks, classes, rotation=45)\n",
    "    plt.yticks(tick_marks, classes)\n",
    "\n",
    "    fmt = '.1f' if normalize else 'd'\n",
    "    thresh = cm.max() / 2.\n",
    "\n",
    "    plt.tight_layout()\n",
    "    plt.ylabel('True label')\n",
    "    plt.xlabel('Predicted label')\n",
    "\n",
    "    return plt"
   ]
  },
  {
   "cell_type": "code",
   "execution_count": null,
   "metadata": {},
   "outputs": [],
   "source": [
    "cm = confusion_matrix(te_y, y_nn_pred_c)\n",
    "fig = plt.figure(figsize=(10, 10))\n",
    "plot = plot_confusion_matrix(cm, classes=['Not_pairs','Pairs'], normalize=True, title='Confusion matrix')\n",
    "plt.show()\n",
    "print(cm)"
   ]
  },
  {
   "cell_type": "code",
   "execution_count": 147,
   "metadata": {
    "collapsed": true
   },
   "outputs": [],
   "source": [
    "from keras.layers import Dense, Dropout\n",
    "from keras.models import Sequential\n",
    "from keras.optimizers import Adam\n",
    "\n",
    "def get_model():\n",
    "    model = Sequential()\n",
    "    model.add(Dense(128, input_shape=(1537,), activation='relu'))\n",
    "    model.add(Dropout(0.1))\n",
    "    model.add(Dense(1, activation='sigmoid'))\n",
    "    model.compile(optimizer='adam', loss='binary_crossentropy', \n",
    "                  metrics=['accuracy'])\n",
    "    return model"
   ]
  },
  {
   "cell_type": "code",
   "execution_count": 242,
   "metadata": {},
   "outputs": [
    {
     "name": "stdout",
     "output_type": "stream",
     "text": [
      "_________________________________________________________________\n",
      "Layer (type)                 Output Shape              Param #   \n",
      "=================================================================\n",
      "dense_29 (Dense)             (None, 128)               196864    \n",
      "_________________________________________________________________\n",
      "dropout_15 (Dropout)         (None, 128)               0         \n",
      "_________________________________________________________________\n",
      "dense_30 (Dense)             (None, 1)                 129       \n",
      "=================================================================\n",
      "Total params: 196,993\n",
      "Trainable params: 196,993\n",
      "Non-trainable params: 0\n",
      "_________________________________________________________________\n"
     ]
    }
   ],
   "source": [
    "nn_model.summary()"
   ]
  },
  {
   "cell_type": "code",
   "execution_count": 243,
   "metadata": {
    "collapsed": true
   },
   "outputs": [
    {
     "data": {
      "text/plain": [
       "array([[0.00000000e+00],\n",
       "       [0.00000000e+00],\n",
       "       [2.92363763e-03],\n",
       "       [0.00000000e+00],\n",
       "       [1.16229057e-04],\n",
       "       [0.00000000e+00],\n",
       "       [0.00000000e+00],\n",
       "       [6.19620085e-04],\n",
       "       [0.00000000e+00],\n",
       "       [4.57183123e-02],\n",
       "       [0.00000000e+00],\n",
       "       [0.00000000e+00],\n",
       "       [1.19209290e-07],\n",
       "       [0.00000000e+00],\n",
       "       [2.61962414e-05],\n",
       "       [2.98768282e-04],\n",
       "       [0.00000000e+00],\n",
       "       [1.90168619e-04],\n",
       "       [3.57627869e-07],\n",
       "       [2.98023224e-07],\n",
       "       [0.00000000e+00],\n",
       "       [0.00000000e+00],\n",
       "       [3.27825546e-07],\n",
       "       [3.70368361e-03],\n",
       "       [0.00000000e+00],\n",
       "       [0.00000000e+00],\n",
       "       [2.30967999e-05],\n",
       "       [8.94069672e-08],\n",
       "       [2.89275646e-02],\n",
       "       [0.00000000e+00],\n",
       "       [2.08616257e-07],\n",
       "       [0.00000000e+00],\n",
       "       [0.00000000e+00],\n",
       "       [0.00000000e+00],\n",
       "       [8.94069672e-08],\n",
       "       [3.27825546e-07],\n",
       "       [3.27825546e-07],\n",
       "       [0.00000000e+00],\n",
       "       [3.77702713e-03],\n",
       "       [0.00000000e+00],\n",
       "       [8.94069672e-08],\n",
       "       [0.00000000e+00],\n",
       "       [0.00000000e+00],\n",
       "       [0.00000000e+00],\n",
       "       [0.00000000e+00],\n",
       "       [6.96420670e-04],\n",
       "       [0.00000000e+00],\n",
       "       [1.08182430e-05],\n",
       "       [0.00000000e+00],\n",
       "       [1.72343552e-02],\n",
       "       [0.00000000e+00],\n",
       "       [2.98023224e-08],\n",
       "       [0.00000000e+00],\n",
       "       [0.00000000e+00],\n",
       "       [4.76837158e-07],\n",
       "       [1.20699406e-05],\n",
       "       [0.00000000e+00],\n",
       "       [1.59233809e-04],\n",
       "       [0.00000000e+00],\n",
       "       [2.75373459e-05],\n",
       "       [8.07642937e-06],\n",
       "       [0.00000000e+00],\n",
       "       [2.68575549e-03],\n",
       "       [0.00000000e+00],\n",
       "       [7.95722008e-06],\n",
       "       [2.61973441e-02],\n",
       "       [0.00000000e+00],\n",
       "       [4.88758087e-06],\n",
       "       [0.00000000e+00],\n",
       "       [9.98377800e-05],\n",
       "       [5.93066216e-06],\n",
       "       [7.02726841e-03],\n",
       "       [2.20149755e-04],\n",
       "       [1.26808882e-04],\n",
       "       [0.00000000e+00],\n",
       "       [7.74860382e-07],\n",
       "       [0.00000000e+00],\n",
       "       [0.00000000e+00],\n",
       "       [8.64267349e-07],\n",
       "       [0.00000000e+00],\n",
       "       [1.78813934e-07],\n",
       "       [6.46710396e-06],\n",
       "       [6.04987144e-06],\n",
       "       [0.00000000e+00],\n",
       "       [0.00000000e+00],\n",
       "       [2.74777412e-05],\n",
       "       [0.00000000e+00],\n",
       "       [5.44917583e-03],\n",
       "       [0.00000000e+00],\n",
       "       [1.43349171e-05],\n",
       "       [1.06066465e-04],\n",
       "       [0.00000000e+00],\n",
       "       [0.00000000e+00],\n",
       "       [0.00000000e+00],\n",
       "       [1.04308128e-06],\n",
       "       [0.00000000e+00],\n",
       "       [0.00000000e+00],\n",
       "       [3.27825546e-07],\n",
       "       [0.00000000e+00],\n",
       "       [6.85453415e-07],\n",
       "       [0.00000000e+00],\n",
       "       [0.00000000e+00],\n",
       "       [2.88739800e-03],\n",
       "       [5.03659248e-06],\n",
       "       [0.00000000e+00],\n",
       "       [0.00000000e+00],\n",
       "       [0.00000000e+00],\n",
       "       [5.06639481e-07],\n",
       "       [1.78813934e-07],\n",
       "       [3.32921743e-04],\n",
       "       [1.34646893e-04],\n",
       "       [0.00000000e+00],\n",
       "       [0.00000000e+00],\n",
       "       [1.04397535e-04],\n",
       "       [1.49011612e-07],\n",
       "       [0.00000000e+00],\n",
       "       [1.82986259e-05],\n",
       "       [0.00000000e+00],\n",
       "       [4.79817390e-06],\n",
       "       [1.78813934e-07],\n",
       "       [8.94069672e-08],\n",
       "       [0.00000000e+00],\n",
       "       [2.44379044e-06],\n",
       "       [2.98023224e-08],\n",
       "       [8.94069672e-08],\n",
       "       [0.00000000e+00],\n",
       "       [0.00000000e+00],\n",
       "       [0.00000000e+00],\n",
       "       [0.00000000e+00],\n",
       "       [9.97407317e-01],\n",
       "       [0.00000000e+00],\n",
       "       [0.00000000e+00],\n",
       "       [0.00000000e+00],\n",
       "       [7.34359026e-04],\n",
       "       [0.00000000e+00],\n",
       "       [0.00000000e+00],\n",
       "       [9.92417336e-06],\n",
       "       [0.00000000e+00],\n",
       "       [3.70728970e-03],\n",
       "       [5.33461571e-06],\n",
       "       [0.00000000e+00],\n",
       "       [3.82065773e-05],\n",
       "       [0.00000000e+00],\n",
       "       [8.94069672e-08],\n",
       "       [7.89761543e-06],\n",
       "       [0.00000000e+00],\n",
       "       [0.00000000e+00],\n",
       "       [5.96046448e-08],\n",
       "       [0.00000000e+00],\n",
       "       [0.00000000e+00],\n",
       "       [3.73303890e-04],\n",
       "       [0.00000000e+00],\n",
       "       [3.96370888e-06],\n",
       "       [5.96046448e-08],\n",
       "       [0.00000000e+00],\n",
       "       [0.00000000e+00],\n",
       "       [0.00000000e+00],\n",
       "       [0.00000000e+00],\n",
       "       [0.00000000e+00],\n",
       "       [0.00000000e+00],\n",
       "       [0.00000000e+00],\n",
       "       [4.88758087e-06],\n",
       "       [0.00000000e+00],\n",
       "       [0.00000000e+00],\n",
       "       [0.00000000e+00],\n",
       "       [0.00000000e+00],\n",
       "       [0.00000000e+00],\n",
       "       [0.00000000e+00],\n",
       "       [0.00000000e+00],\n",
       "       [2.22325325e-05],\n",
       "       [8.64267349e-07],\n",
       "       [8.94069672e-07],\n",
       "       [3.01599503e-05],\n",
       "       [3.03983688e-05],\n",
       "       [2.57194042e-05],\n",
       "       [2.60544419e-02],\n",
       "       [3.12924385e-06],\n",
       "       [2.11596489e-06],\n",
       "       [2.74479389e-05],\n",
       "       [7.13184178e-02],\n",
       "       [1.87754631e-06],\n",
       "       [0.00000000e+00],\n",
       "       [7.74860382e-07],\n",
       "       [2.03400850e-04],\n",
       "       [0.00000000e+00],\n",
       "       [0.00000000e+00],\n",
       "       [7.06315041e-06],\n",
       "       [1.09970570e-05],\n",
       "       [8.35812390e-02],\n",
       "       [0.00000000e+00],\n",
       "       [0.00000000e+00],\n",
       "       [2.98023224e-08],\n",
       "       [6.51180744e-05],\n",
       "       [0.00000000e+00],\n",
       "       [1.49011612e-07],\n",
       "       [0.00000000e+00],\n",
       "       [1.64806843e-05],\n",
       "       [0.00000000e+00],\n",
       "       [7.30156898e-06],\n",
       "       [0.00000000e+00],\n",
       "       [0.00000000e+00],\n",
       "       [3.56107950e-04],\n",
       "       [3.43322754e-05],\n",
       "       [1.63316727e-04],\n",
       "       [1.49011612e-07],\n",
       "       [1.78813934e-07],\n",
       "       [7.16949642e-01],\n",
       "       [0.00000000e+00],\n",
       "       [0.00000000e+00],\n",
       "       [0.00000000e+00],\n",
       "       [1.20148063e-03],\n",
       "       [5.96046448e-08],\n",
       "       [0.00000000e+00],\n",
       "       [0.00000000e+00],\n",
       "       [1.40368938e-05],\n",
       "       [0.00000000e+00],\n",
       "       [0.00000000e+00],\n",
       "       [0.00000000e+00],\n",
       "       [3.21805477e-04],\n",
       "       [1.19209290e-07],\n",
       "       [0.00000000e+00],\n",
       "       [0.00000000e+00],\n",
       "       [0.00000000e+00],\n",
       "       [1.84774399e-06],\n",
       "       [1.48117542e-05],\n",
       "       [0.00000000e+00],\n",
       "       [0.00000000e+00],\n",
       "       [0.00000000e+00],\n",
       "       [2.23517418e-06],\n",
       "       [0.00000000e+00],\n",
       "       [6.67572021e-06],\n",
       "       [1.49011612e-07],\n",
       "       [0.00000000e+00],\n",
       "       [9.89780247e-01],\n",
       "       [1.78813934e-07],\n",
       "       [9.08970833e-05],\n",
       "       [2.98023224e-08],\n",
       "       [0.00000000e+00],\n",
       "       [5.22732735e-05],\n",
       "       [0.00000000e+00],\n",
       "       [0.00000000e+00],\n",
       "       [0.00000000e+00],\n",
       "       [7.20840394e-02],\n",
       "       [0.00000000e+00],\n",
       "       [0.00000000e+00],\n",
       "       [8.46385956e-06],\n",
       "       [0.00000000e+00],\n",
       "       [1.28239393e-04],\n",
       "       [0.00000000e+00],\n",
       "       [1.19209290e-07],\n",
       "       [4.32133675e-06],\n",
       "       [9.53674316e-07],\n",
       "       [6.67050481e-03],\n",
       "       [0.00000000e+00],\n",
       "       [5.06639481e-07],\n",
       "       [1.80038810e-03],\n",
       "       [8.61287117e-06],\n",
       "       [0.00000000e+00],\n",
       "       [0.00000000e+00],\n",
       "       [2.98023224e-08],\n",
       "       [0.00000000e+00],\n",
       "       [0.00000000e+00],\n",
       "       [0.00000000e+00],\n",
       "       [0.00000000e+00],\n",
       "       [0.00000000e+00],\n",
       "       [0.00000000e+00],\n",
       "       [3.66148949e-02],\n",
       "       [3.57627869e-07],\n",
       "       [1.74105167e-04],\n",
       "       [0.00000000e+00],\n",
       "       [2.42888927e-05],\n",
       "       [8.56816769e-04],\n",
       "       [9.53674316e-06],\n",
       "       [7.71880150e-06],\n",
       "       [0.00000000e+00],\n",
       "       [9.92171586e-01],\n",
       "       [0.00000000e+00],\n",
       "       [0.00000000e+00],\n",
       "       [1.49011612e-07],\n",
       "       [8.47339630e-04],\n",
       "       [3.09050083e-05],\n",
       "       [3.93750966e-02],\n",
       "       [0.00000000e+00],\n",
       "       [3.97852659e-02],\n",
       "       [2.98023224e-08],\n",
       "       [4.20212746e-06],\n",
       "       [9.44733620e-06],\n",
       "       [1.15728438e-01],\n",
       "       [0.00000000e+00],\n",
       "       [8.34465027e-07],\n",
       "       [1.19209290e-07],\n",
       "       [9.58263874e-04],\n",
       "       [5.66244125e-07],\n",
       "       [3.57627869e-06],\n",
       "       [0.00000000e+00],\n",
       "       [0.00000000e+00],\n",
       "       [3.29017639e-05],\n",
       "       [0.00000000e+00],\n",
       "       [0.00000000e+00],\n",
       "       [2.90492177e-03],\n",
       "       [8.94069672e-08],\n",
       "       [0.00000000e+00],\n",
       "       [1.85728073e-04],\n",
       "       [0.00000000e+00],\n",
       "       [2.08616257e-07],\n",
       "       [0.00000000e+00],\n",
       "       [0.00000000e+00],\n",
       "       [1.93715096e-06],\n",
       "       [1.11758709e-05],\n",
       "       [0.00000000e+00],\n",
       "       [2.20537186e-06],\n",
       "       [1.26340985e-03],\n",
       "       [2.98023224e-08],\n",
       "       [1.50948763e-04],\n",
       "       [0.00000000e+00],\n",
       "       [1.19209290e-07],\n",
       "       [0.00000000e+00],\n",
       "       [0.00000000e+00],\n",
       "       [0.00000000e+00],\n",
       "       [0.00000000e+00],\n",
       "       [1.10268593e-06],\n",
       "       [8.94069672e-08],\n",
       "       [0.00000000e+00],\n",
       "       [1.01327896e-06],\n",
       "       [0.00000000e+00],\n",
       "       [7.30454922e-05],\n",
       "       [8.34465027e-07],\n",
       "       [0.00000000e+00],\n",
       "       [0.00000000e+00],\n",
       "       [0.00000000e+00],\n",
       "       [2.43994594e-03],\n",
       "       [5.98132610e-05],\n",
       "       [0.00000000e+00],\n",
       "       [0.00000000e+00],\n",
       "       [0.00000000e+00],\n",
       "       [0.00000000e+00],\n",
       "       [1.47920847e-03],\n",
       "       [3.88401747e-02],\n",
       "       [3.09920609e-02],\n",
       "       [0.00000000e+00],\n",
       "       [2.38418579e-07],\n",
       "       [0.00000000e+00],\n",
       "       [6.16610050e-05],\n",
       "       [0.00000000e+00],\n",
       "       [1.34736300e-04],\n",
       "       [0.00000000e+00],\n",
       "       [1.72853470e-06],\n",
       "       [0.00000000e+00],\n",
       "       [9.88163590e-01],\n",
       "       [1.84774399e-05],\n",
       "       [1.32471323e-04],\n",
       "       [5.00380993e-05],\n",
       "       [0.00000000e+00],\n",
       "       [2.63154507e-05],\n",
       "       [0.00000000e+00],\n",
       "       [1.27848983e-03],\n",
       "       [8.94069672e-08],\n",
       "       [0.00000000e+00],\n",
       "       [0.00000000e+00],\n",
       "       [1.46031380e-06],\n",
       "       [1.68383121e-05],\n",
       "       [0.00000000e+00],\n",
       "       [0.00000000e+00],\n",
       "       [0.00000000e+00],\n",
       "       [1.78813934e-07],\n",
       "       [8.10921192e-04],\n",
       "       [4.44054604e-06],\n",
       "       [1.46676272e-01],\n",
       "       [0.00000000e+00],\n",
       "       [0.00000000e+00],\n",
       "       [0.00000000e+00],\n",
       "       [0.00000000e+00],\n",
       "       [0.00000000e+00],\n",
       "       [3.27825546e-07],\n",
       "       [0.00000000e+00],\n",
       "       [0.00000000e+00],\n",
       "       [1.82420015e-04],\n",
       "       [1.11162663e-05],\n",
       "       [1.78813934e-07],\n",
       "       [0.00000000e+00],\n",
       "       [1.52885914e-05],\n",
       "       [7.19709396e-02],\n",
       "       [0.00000000e+00],\n",
       "       [0.00000000e+00],\n",
       "       [0.00000000e+00],\n",
       "       [1.83734298e-03],\n",
       "       [0.00000000e+00],\n",
       "       [4.85089421e-03],\n",
       "       [5.73128462e-04],\n",
       "       [1.05708838e-04],\n",
       "       [4.50015068e-06],\n",
       "       [3.57627869e-07],\n",
       "       [2.08616257e-07],\n",
       "       [2.03192234e-04],\n",
       "       [0.00000000e+00],\n",
       "       [0.00000000e+00],\n",
       "       [0.00000000e+00],\n",
       "       [3.87430191e-07],\n",
       "       [3.72529030e-06],\n",
       "       [0.00000000e+00],\n",
       "       [0.00000000e+00],\n",
       "       [0.00000000e+00],\n",
       "       [2.73116887e-01],\n",
       "       [8.94069672e-07],\n",
       "       [1.46031380e-06],\n",
       "       [9.17911530e-06],\n",
       "       [0.00000000e+00],\n",
       "       [8.22544098e-06],\n",
       "       [5.24520874e-06],\n",
       "       [2.87157297e-03],\n",
       "       [0.00000000e+00],\n",
       "       [9.05603170e-04],\n",
       "       [0.00000000e+00],\n",
       "       [1.19209290e-07],\n",
       "       [1.80691481e-04],\n",
       "       [2.68220901e-07],\n",
       "       [5.95912337e-03],\n",
       "       [6.55651093e-05],\n",
       "       [0.00000000e+00],\n",
       "       [1.46031380e-06],\n",
       "       [1.78813934e-07],\n",
       "       [4.58711386e-03],\n",
       "       [0.00000000e+00],\n",
       "       [4.56127971e-01],\n",
       "       [5.96046448e-07],\n",
       "       [1.78813934e-07],\n",
       "       [1.29354000e-03],\n",
       "       [2.22316384e-03],\n",
       "       [0.00000000e+00],\n",
       "       [2.68220901e-07],\n",
       "       [0.00000000e+00],\n",
       "       [1.37984753e-05],\n",
       "       [0.00000000e+00],\n",
       "       [2.51233578e-05],\n",
       "       [1.90734863e-06],\n",
       "       [3.57627869e-06],\n",
       "       [7.16745853e-05],\n",
       "       [2.98023224e-08],\n",
       "       [8.94069672e-08],\n",
       "       [1.19209290e-07],\n",
       "       [1.49011612e-07],\n",
       "       [8.10378194e-01],\n",
       "       [1.95205212e-04],\n",
       "       [0.00000000e+00],\n",
       "       [8.35235417e-02],\n",
       "       [1.86264515e-05],\n",
       "       [7.45058060e-06],\n",
       "       [4.76837158e-06],\n",
       "       [0.00000000e+00],\n",
       "       [0.00000000e+00],\n",
       "       [0.00000000e+00],\n",
       "       [0.00000000e+00],\n",
       "       [0.00000000e+00],\n",
       "       [0.00000000e+00],\n",
       "       [0.00000000e+00],\n",
       "       [0.00000000e+00],\n",
       "       [4.05311584e-05],\n",
       "       [9.53674316e-07],\n",
       "       [0.00000000e+00],\n",
       "       [0.00000000e+00],\n",
       "       [0.00000000e+00],\n",
       "       [4.15826738e-02],\n",
       "       [2.71648169e-04],\n",
       "       [0.00000000e+00],\n",
       "       [0.00000000e+00],\n",
       "       [1.78813934e-07],\n",
       "       [2.08616257e-07],\n",
       "       [0.00000000e+00],\n",
       "       [0.00000000e+00],\n",
       "       [0.00000000e+00],\n",
       "       [1.13427639e-04],\n",
       "       [8.94069672e-08],\n",
       "       [0.00000000e+00],\n",
       "       [0.00000000e+00],\n",
       "       [8.94069672e-08],\n",
       "       [4.58747149e-04],\n",
       "       [1.36792660e-05],\n",
       "       [7.74860382e-07],\n",
       "       [0.00000000e+00],\n",
       "       [6.25848770e-07],\n",
       "       [1.80923939e-03],\n",
       "       [0.00000000e+00],\n",
       "       [0.00000000e+00],\n",
       "       [3.80575657e-05],\n",
       "       [0.00000000e+00],\n",
       "       [0.00000000e+00],\n",
       "       [1.37090683e-06],\n",
       "       [1.37090683e-06],\n",
       "       [0.00000000e+00],\n",
       "       [0.00000000e+00],\n",
       "       [1.57952309e-06],\n",
       "       [3.27825546e-07],\n",
       "       [3.66148949e-02],\n",
       "       [4.17232513e-07],\n",
       "       [0.00000000e+00],\n",
       "       [1.19209290e-07],\n",
       "       [8.94069672e-08],\n",
       "       [0.00000000e+00],\n",
       "       [0.00000000e+00],\n",
       "       [1.23679638e-05],\n",
       "       [1.04308128e-06],\n",
       "       [0.00000000e+00],\n",
       "       [1.49011612e-07],\n",
       "       [0.00000000e+00],\n",
       "       [2.32261419e-03],\n",
       "       [0.00000000e+00],\n",
       "       [2.93231010e-03],\n",
       "       [1.78813934e-07],\n",
       "       [1.22874975e-04],\n",
       "       [0.00000000e+00],\n",
       "       [0.00000000e+00],\n",
       "       [0.00000000e+00],\n",
       "       [0.00000000e+00],\n",
       "       [1.19209290e-07],\n",
       "       [2.82561183e-02],\n",
       "       [5.96046448e-08],\n",
       "       [0.00000000e+00],\n",
       "       [0.00000000e+00],\n",
       "       [7.74860382e-07],\n",
       "       [0.00000000e+00],\n",
       "       [0.00000000e+00],\n",
       "       [0.00000000e+00],\n",
       "       [1.55568123e-05],\n",
       "       [7.64131546e-05],\n",
       "       [0.00000000e+00],\n",
       "       [5.17493486e-03],\n",
       "       [9.47156549e-02],\n",
       "       [0.00000000e+00],\n",
       "       [2.19941139e-04],\n",
       "       [0.00000000e+00],\n",
       "       [2.08616257e-07],\n",
       "       [1.31130219e-06],\n",
       "       [0.00000000e+00],\n",
       "       [0.00000000e+00],\n",
       "       [8.94069672e-08],\n",
       "       [4.17232513e-07],\n",
       "       [3.27825546e-07],\n",
       "       [0.00000000e+00],\n",
       "       [0.00000000e+00],\n",
       "       [0.00000000e+00],\n",
       "       [0.00000000e+00],\n",
       "       [3.51667404e-06],\n",
       "       [2.45541334e-03],\n",
       "       [0.00000000e+00],\n",
       "       [1.28149986e-06],\n",
       "       [3.87430191e-07],\n",
       "       [0.00000000e+00],\n",
       "       [3.87430191e-07],\n",
       "       [0.00000000e+00],\n",
       "       [0.00000000e+00],\n",
       "       [8.94069672e-08],\n",
       "       [0.00000000e+00],\n",
       "       [6.42746687e-04],\n",
       "       [1.40070915e-05],\n",
       "       [3.86238098e-05],\n",
       "       [0.00000000e+00],\n",
       "       [1.02420777e-01],\n",
       "       [0.00000000e+00],\n",
       "       [3.16321850e-04],\n",
       "       [0.00000000e+00],\n",
       "       [1.02579594e-04],\n",
       "       [0.00000000e+00],\n",
       "       [1.14589930e-04],\n",
       "       [5.78850508e-04],\n",
       "       [0.00000000e+00],\n",
       "       [1.06066465e-04],\n",
       "       [1.28149986e-06],\n",
       "       [1.81794167e-06],\n",
       "       [4.50015068e-06],\n",
       "       [7.06613064e-04],\n",
       "       [1.17450953e-04],\n",
       "       [3.89814377e-05],\n",
       "       [6.63697720e-05],\n",
       "       [0.00000000e+00],\n",
       "       [0.00000000e+00],\n",
       "       [5.96046448e-08],\n",
       "       [1.96576118e-04],\n",
       "       [2.15917826e-04],\n",
       "       [3.50475311e-05],\n",
       "       [1.08540058e-04],\n",
       "       [1.82986259e-05],\n",
       "       [4.85777855e-04],\n",
       "       [2.07126141e-05],\n",
       "       [9.65168893e-01],\n",
       "       [3.48269939e-04],\n",
       "       [0.00000000e+00],\n",
       "       [6.73532486e-06],\n",
       "       [8.64267349e-06],\n",
       "       [0.00000000e+00],\n",
       "       [3.27364922e-01],\n",
       "       [0.00000000e+00],\n",
       "       [0.00000000e+00],\n",
       "       [0.00000000e+00],\n",
       "       [6.25848770e-07],\n",
       "       [2.98023224e-07],\n",
       "       [5.96046448e-07],\n",
       "       [0.00000000e+00],\n",
       "       [6.85453415e-07],\n",
       "       [0.00000000e+00],\n",
       "       [0.00000000e+00],\n",
       "       [9.53954339e-01],\n",
       "       [0.00000000e+00],\n",
       "       [0.00000000e+00],\n",
       "       [0.00000000e+00],\n",
       "       [8.94069672e-08],\n",
       "       [0.00000000e+00],\n",
       "       [9.20891762e-06],\n",
       "       [0.00000000e+00],\n",
       "       [6.40382171e-02],\n",
       "       [0.00000000e+00],\n",
       "       [0.00000000e+00],\n",
       "       [8.94069672e-08],\n",
       "       [1.78813934e-06],\n",
       "       [3.56197357e-04],\n",
       "       [4.47034836e-07],\n",
       "       [0.00000000e+00],\n",
       "       [0.00000000e+00],\n",
       "       [2.38269567e-04],\n",
       "       [4.99188900e-05],\n",
       "       [0.00000000e+00],\n",
       "       [3.99649143e-05],\n",
       "       [0.00000000e+00],\n",
       "       [3.80635262e-03],\n",
       "       [1.71181560e-03],\n",
       "       [0.00000000e+00],\n",
       "       [0.00000000e+00],\n",
       "       [8.94069672e-08],\n",
       "       [5.96046448e-08],\n",
       "       [1.19209290e-07],\n",
       "       [1.19209290e-07],\n",
       "       [1.78813934e-07],\n",
       "       [0.00000000e+00],\n",
       "       [0.00000000e+00],\n",
       "       [0.00000000e+00],\n",
       "       [0.00000000e+00],\n",
       "       [0.00000000e+00],\n",
       "       [0.00000000e+00],\n",
       "       [0.00000000e+00],\n",
       "       [0.00000000e+00],\n",
       "       [6.03288412e-04],\n",
       "       [3.17394733e-05],\n",
       "       [0.00000000e+00],\n",
       "       [0.00000000e+00],\n",
       "       [0.00000000e+00],\n",
       "       [2.47657299e-05],\n",
       "       [1.78813934e-07],\n",
       "       [0.00000000e+00],\n",
       "       [0.00000000e+00],\n",
       "       [7.28160143e-04],\n",
       "       [1.69575214e-05],\n",
       "       [1.78813934e-07],\n",
       "       [8.94069672e-08],\n",
       "       [5.66244125e-07],\n",
       "       [0.00000000e+00],\n",
       "       [1.19209290e-07],\n",
       "       [5.06639481e-07],\n",
       "       [0.00000000e+00],\n",
       "       [9.10878181e-04],\n",
       "       [0.00000000e+00],\n",
       "       [8.34465027e-07],\n",
       "       [1.49011612e-07],\n",
       "       [1.19209290e-07],\n",
       "       [2.14576721e-06],\n",
       "       [8.94069672e-08],\n",
       "       [2.47359276e-06],\n",
       "       [2.23040581e-04],\n",
       "       [0.00000000e+00],\n",
       "       [0.00000000e+00],\n",
       "       [0.00000000e+00],\n",
       "       [6.91413879e-06],\n",
       "       [0.00000000e+00],\n",
       "       [0.00000000e+00],\n",
       "       [1.16890669e-03],\n",
       "       [0.00000000e+00],\n",
       "       [6.37441874e-04],\n",
       "       [0.00000000e+00],\n",
       "       [5.96046448e-08],\n",
       "       [5.66244125e-07],\n",
       "       [0.00000000e+00],\n",
       "       [0.00000000e+00],\n",
       "       [3.96370888e-06],\n",
       "       [7.59959221e-06],\n",
       "       [0.00000000e+00],\n",
       "       [5.06639481e-07],\n",
       "       [1.29959822e-01],\n",
       "       [0.00000000e+00],\n",
       "       [8.94069672e-08],\n",
       "       [5.83273172e-03],\n",
       "       [0.00000000e+00],\n",
       "       [1.46031380e-06],\n",
       "       [0.00000000e+00],\n",
       "       [5.48362732e-06],\n",
       "       [2.98023224e-07],\n",
       "       [2.13921070e-04],\n",
       "       [0.00000000e+00],\n",
       "       [1.19053423e-02],\n",
       "       [0.00000000e+00],\n",
       "       [3.82363796e-05],\n",
       "       [5.96046448e-08],\n",
       "       [0.00000000e+00],\n",
       "       [0.00000000e+00],\n",
       "       [1.49345398e-03],\n",
       "       [1.41561031e-04],\n",
       "       [4.45008278e-03],\n",
       "       [7.39605665e-01],\n",
       "       [4.57019210e-02],\n",
       "       [0.00000000e+00],\n",
       "       [8.64125013e-01],\n",
       "       [0.00000000e+00],\n",
       "       [0.00000000e+00],\n",
       "       [1.19209290e-06],\n",
       "       [3.57627869e-07],\n",
       "       [1.19209290e-07],\n",
       "       [0.00000000e+00],\n",
       "       [1.49011612e-07],\n",
       "       [0.00000000e+00],\n",
       "       [0.00000000e+00],\n",
       "       [2.98023224e-08],\n",
       "       [0.00000000e+00],\n",
       "       [9.89082932e-01],\n",
       "       [4.23192978e-06],\n",
       "       [0.00000000e+00],\n",
       "       [7.46428967e-03],\n",
       "       [0.00000000e+00],\n",
       "       [1.78813934e-07],\n",
       "       [0.00000000e+00],\n",
       "       [0.00000000e+00],\n",
       "       [0.00000000e+00],\n",
       "       [0.00000000e+00],\n",
       "       [0.00000000e+00],\n",
       "       [0.00000000e+00],\n",
       "       [1.49011612e-07],\n",
       "       [7.55459070e-03],\n",
       "       [0.00000000e+00],\n",
       "       [1.19209290e-07],\n",
       "       [0.00000000e+00],\n",
       "       [0.00000000e+00],\n",
       "       [6.68911517e-01],\n",
       "       [2.65240669e-06],\n",
       "       [5.18560410e-06],\n",
       "       [2.98023224e-08],\n",
       "       [1.49011612e-07],\n",
       "       [1.78217888e-05],\n",
       "       [4.47034836e-07],\n",
       "       [7.45058060e-07],\n",
       "       [2.02357769e-04],\n",
       "       [4.79817390e-06],\n",
       "       [3.08156013e-05],\n",
       "       [0.00000000e+00],\n",
       "       [0.00000000e+00],\n",
       "       [2.47207880e-02],\n",
       "       [8.94069672e-08],\n",
       "       [0.00000000e+00],\n",
       "       [8.94069672e-08],\n",
       "       [4.94718552e-06],\n",
       "       [7.41183758e-05],\n",
       "       [0.00000000e+00],\n",
       "       [6.40451908e-05],\n",
       "       [0.00000000e+00],\n",
       "       [5.08546829e-04],\n",
       "       [1.19209290e-07],\n",
       "       [5.73307276e-04],\n",
       "       [0.00000000e+00],\n",
       "       [0.00000000e+00],\n",
       "       [0.00000000e+00],\n",
       "       [0.00000000e+00],\n",
       "       [8.39471817e-04],\n",
       "       [0.00000000e+00],\n",
       "       [0.00000000e+00],\n",
       "       [0.00000000e+00],\n",
       "       [2.13384628e-05],\n",
       "       [3.87430191e-07],\n",
       "       [1.15036964e-05],\n",
       "       [4.44054604e-06],\n",
       "       [0.00000000e+00],\n",
       "       [1.50203705e-05],\n",
       "       [5.33461571e-06],\n",
       "       [1.29622221e-03],\n",
       "       [0.00000000e+00],\n",
       "       [2.02655792e-05],\n",
       "       [5.22732735e-05],\n",
       "       [1.17969513e-03],\n",
       "       [0.00000000e+00],\n",
       "       [0.00000000e+00],\n",
       "       [1.00821257e-04],\n",
       "       [0.00000000e+00],\n",
       "       [1.63781643e-03],\n",
       "       [2.98023224e-08],\n",
       "       [1.57952309e-06],\n",
       "       [0.00000000e+00],\n",
       "       [8.94069672e-08],\n",
       "       [5.50601602e-01],\n",
       "       [9.59235430e-03],\n",
       "       [0.00000000e+00],\n",
       "       [3.95059586e-04],\n",
       "       [0.00000000e+00],\n",
       "       [0.00000000e+00],\n",
       "       [6.96620345e-03],\n",
       "       [0.00000000e+00],\n",
       "       [0.00000000e+00],\n",
       "       [0.00000000e+00],\n",
       "       [9.23871994e-07],\n",
       "       [0.00000000e+00],\n",
       "       [0.00000000e+00],\n",
       "       [6.16908073e-06],\n",
       "       [1.78813934e-07],\n",
       "       [0.00000000e+00],\n",
       "       [0.00000000e+00],\n",
       "       [1.78813934e-07],\n",
       "       [4.97698784e-06],\n",
       "       [0.00000000e+00],\n",
       "       [0.00000000e+00],\n",
       "       [3.30209732e-05],\n",
       "       [0.00000000e+00],\n",
       "       [0.00000000e+00],\n",
       "       [5.09619713e-06],\n",
       "       [0.00000000e+00],\n",
       "       [0.00000000e+00],\n",
       "       [2.98023224e-08],\n",
       "       [7.74860382e-07],\n",
       "       [1.49011612e-07],\n",
       "       [1.92856789e-03],\n",
       "       [3.33786011e-05],\n",
       "       [0.00000000e+00],\n",
       "       [0.00000000e+00],\n",
       "       [0.00000000e+00],\n",
       "       [0.00000000e+00],\n",
       "       [0.00000000e+00],\n",
       "       [1.28149986e-06],\n",
       "       [6.28829002e-06],\n",
       "       [0.00000000e+00],\n",
       "       [3.44216824e-05],\n",
       "       [0.00000000e+00],\n",
       "       [1.19209290e-07],\n",
       "       [8.94069672e-08],\n",
       "       [0.00000000e+00],\n",
       "       [1.19432807e-03],\n",
       "       [1.43349171e-05],\n",
       "       [5.54323196e-06],\n",
       "       [0.00000000e+00],\n",
       "       [3.89814377e-05],\n",
       "       [1.26659870e-05],\n",
       "       [0.00000000e+00],\n",
       "       [0.00000000e+00],\n",
       "       [0.00000000e+00],\n",
       "       [9.82880592e-05],\n",
       "       [9.23871994e-07],\n",
       "       [2.66849995e-04],\n",
       "       [1.49011612e-06],\n",
       "       [0.00000000e+00],\n",
       "       [7.45356083e-05],\n",
       "       [0.00000000e+00],\n",
       "       [1.74994469e-02],\n",
       "       [1.25169754e-06],\n",
       "       [8.64267349e-07],\n",
       "       [1.37090683e-06],\n",
       "       [1.26063824e-05],\n",
       "       [2.41935253e-04],\n",
       "       [9.91699338e-01],\n",
       "       [0.00000000e+00],\n",
       "       [0.00000000e+00],\n",
       "       [0.00000000e+00],\n",
       "       [2.14278698e-05],\n",
       "       [5.82635403e-05],\n",
       "       [0.00000000e+00],\n",
       "       [0.00000000e+00],\n",
       "       [8.94069672e-08],\n",
       "       [0.00000000e+00],\n",
       "       [2.92062759e-06],\n",
       "       [4.65810299e-05],\n",
       "       [1.02221966e-05],\n",
       "       [0.00000000e+00],\n",
       "       [0.00000000e+00],\n",
       "       [9.79466975e-01],\n",
       "       [9.62244868e-01],\n",
       "       [3.52255166e-01],\n",
       "       [0.00000000e+00],\n",
       "       [1.19209290e-07],\n",
       "       [1.49011612e-07],\n",
       "       [0.00000000e+00],\n",
       "       [0.00000000e+00],\n",
       "       [1.77919865e-05],\n",
       "       [3.54647636e-06],\n",
       "       [1.40070915e-06],\n",
       "       [3.05831432e-04],\n",
       "       [5.96046448e-07],\n",
       "       [0.00000000e+00],\n",
       "       [2.24768221e-02],\n",
       "       [0.00000000e+00],\n",
       "       [0.00000000e+00],\n",
       "       [0.00000000e+00],\n",
       "       [8.54492188e-04],\n",
       "       [4.61283326e-03],\n",
       "       [1.10536814e-04],\n",
       "       [3.30805779e-05],\n",
       "       [0.00000000e+00],\n",
       "       [3.45706940e-06],\n",
       "       [0.00000000e+00],\n",
       "       [0.00000000e+00],\n",
       "       [0.00000000e+00],\n",
       "       [0.00000000e+00],\n",
       "       [1.19209290e-07],\n",
       "       [0.00000000e+00],\n",
       "       [0.00000000e+00],\n",
       "       [9.66310501e-04],\n",
       "       [1.15236640e-03],\n",
       "       [1.23679638e-05],\n",
       "       [1.12354755e-05],\n",
       "       [1.43179297e-03],\n",
       "       [0.00000000e+00],\n",
       "       [0.00000000e+00],\n",
       "       [0.00000000e+00],\n",
       "       [0.00000000e+00],\n",
       "       [6.46859407e-03],\n",
       "       [1.78813934e-07],\n",
       "       [2.20537186e-06],\n",
       "       [8.35456848e-01],\n",
       "       [0.00000000e+00],\n",
       "       [0.00000000e+00],\n",
       "       [1.19656324e-04],\n",
       "       [7.74860382e-07],\n",
       "       [0.00000000e+00],\n",
       "       [0.00000000e+00],\n",
       "       [0.00000000e+00],\n",
       "       [0.00000000e+00],\n",
       "       [0.00000000e+00],\n",
       "       [0.00000000e+00],\n",
       "       [0.00000000e+00],\n",
       "       [5.14784455e-03],\n",
       "       [2.98023224e-08],\n",
       "       [9.23871994e-07],\n",
       "       [3.95002961e-03],\n",
       "       [1.08897686e-04],\n",
       "       [0.00000000e+00],\n",
       "       [0.00000000e+00],\n",
       "       [0.00000000e+00],\n",
       "       [4.05609608e-05],\n",
       "       [9.08970833e-06],\n",
       "       [5.00321388e-04],\n",
       "       [0.00000000e+00],\n",
       "       [0.00000000e+00],\n",
       "       [0.00000000e+00],\n",
       "       [9.96047199e-01],\n",
       "       [0.00000000e+00],\n",
       "       [5.06639481e-07],\n",
       "       [0.00000000e+00],\n",
       "       [1.19209290e-07],\n",
       "       [0.00000000e+00],\n",
       "       [1.44302845e-04],\n",
       "       [1.79171562e-04],\n",
       "       [3.24198872e-01],\n",
       "       [2.26527452e-04],\n",
       "       [0.00000000e+00],\n",
       "       [0.00000000e+00],\n",
       "       [0.00000000e+00],\n",
       "       [6.74724579e-05],\n",
       "       [3.23119760e-03],\n",
       "       [0.00000000e+00],\n",
       "       [5.05805016e-04],\n",
       "       [4.47034836e-07],\n",
       "       [6.22868538e-06],\n",
       "       [0.00000000e+00],\n",
       "       [8.19336414e-01],\n",
       "       [0.00000000e+00],\n",
       "       [2.56001949e-05],\n",
       "       [6.55651093e-07],\n",
       "       [2.14278698e-05],\n",
       "       [3.03983688e-06],\n",
       "       [1.70171261e-05],\n",
       "       [0.00000000e+00],\n",
       "       [2.26497650e-06],\n",
       "       [8.94069672e-08],\n",
       "       [1.28901005e-03],\n",
       "       [7.21216202e-06],\n",
       "       [0.00000000e+00],\n",
       "       [7.06315041e-06],\n",
       "       [8.94069672e-08],\n",
       "       [0.00000000e+00],\n",
       "       [5.96046448e-08],\n",
       "       [0.00000000e+00],\n",
       "       [5.49256802e-05],\n",
       "       [0.00000000e+00],\n",
       "       [0.00000000e+00],\n",
       "       [2.08914280e-05],\n",
       "       [2.16202012e-09],\n",
       "       [7.64210781e-05]], dtype=float32)"
      ]
     },
     "execution_count": 243,
     "metadata": {},
     "output_type": "execute_result"
    }
   ],
   "source": [
    "y_nn_pred"
   ]
  },
  {
   "cell_type": "code",
   "execution_count": null,
   "metadata": {},
   "outputs": [],
   "source": [
    "nn_model = get_model()\n",
    "nn_model.fit(trn_x, trn_y, validation_data=(te_x, te_y), \n",
    "             batch_size=32, epochs=20)"
   ]
  },
  {
   "cell_type": "code",
   "execution_count": null,
   "metadata": {},
   "outputs": [],
   "source": [
    "threshold = 0.1\n",
    "y_nn_pred_c = y_nn_pred.squeeze() > threshold\n",
    "y_rfc_pred_c = r_rfc_prob[:, 1] > threshold\n",
    "print(classification_report(te_y, y_nn_pred_c))\n",
    "print(\"rfc\")\n",
    "print(classification_report(te_y, y_rfc_pred_c))"
   ]
  },
  {
   "cell_type": "code",
   "execution_count": null,
   "metadata": {},
   "outputs": [],
   "source": [
    "# y_nn_tr = nn_model.predict(trn_x)\n",
    "# y_tr_rfc = rfc.predict_proba(trn_x)\n",
    "\n",
    "threshold = 0.1\n",
    "y_nn_tr_c = y_nn_tr.squeeze() > threshold\n",
    "y_rfc_tr_c = y_tr_rfc[:, 1] > threshold\n",
    "print(classification_report(trn_y, y_nn_tr_c))\n",
    "print(\"rfc\")\n",
    "print(classification_report(trn_y, y_rfc_tr_c))"
   ]
  },
  {
   "cell_type": "code",
   "execution_count": null,
   "metadata": {
    "collapsed": true
   },
   "outputs": [],
   "source": [
    "from sklearn.metrics import precision_score, recall_score, f1_score"
   ]
  },
  {
   "cell_type": "code",
   "execution_count": null,
   "metadata": {},
   "outputs": [],
   "source": [
    "print(\"precision:\", \n",
    "      precision_score(te_y, y_nn_pred_c, pos_label=None,average='weighted'))\n",
    "print(\"recall:\", \n",
    "      recall_score(te_y, y_nn_pred_c, pos_label=None,average='weighted'))\n",
    "print(\"f1:\", \n",
    "      f1_score(te_y, y_nn_pred_c, pos_label=None,average='weighted'))"
   ]
  },
  {
   "cell_type": "code",
   "execution_count": 209,
   "metadata": {
    "collapsed": true
   },
   "outputs": [],
   "source": [
    "model_json = nn_model.to_json()\n",
    "with open(\"nn_sim_1537.json\", \"w\") as jf:\n",
    "    jf.write(model_json)\n",
    "nn_model.save_weights(\"nn_sim_1537.h5\")"
   ]
  },
  {
   "cell_type": "code",
   "execution_count": 165,
   "metadata": {},
   "outputs": [
    {
     "data": {
      "text/plain": [
       "(986, 1)"
      ]
     },
     "execution_count": 165,
     "metadata": {},
     "output_type": "execute_result"
    }
   ],
   "source": [
    "y_nn_pred = nn_model.predict_proba(te_x)\n",
    "y_nn_pred.shape"
   ]
  },
  {
   "cell_type": "code",
   "execution_count": 218,
   "metadata": {
    "collapsed": true
   },
   "outputs": [],
   "source": [
    "def embed_sentence(sentence):\n",
    "#     sentence = preprocess_text(sentence)\n",
    "    embs = bc.encode([sentence])[0]\n",
    "    return embs\n",
    "\n",
    "def prepare_pred_data(emb, ans_embs):\n",
    "    length = ans_embs.shape[0]\n",
    "    q_emb = np.array([emb for _ in range(length)])\n",
    "    cos_sim = np.array([cos(emb, ans_embs[i]) for i in range(length)])\n",
    "    return np.hstack([q_emb, ans_embs, cos_sim.reshape(-1, 1)])\n",
    "\n",
    "def pred_prob_ranking(emb, ans_embs, model):\n",
    "    pred_arr = prepare_pred_data(emb, ans_embs)\n",
    "    preds = model.predict_proba(pred_arr).squeeze()\n",
    "#     preds = model.predict_proba(pred_arr)[:, 1]\n",
    "    ids = np.argsort(preds)[::-1]\n",
    "    return ids, preds\n",
    "\n",
    "def top_k(question, ans_emb, answers, model, k):\n",
    "    results = []\n",
    "    emb = embed_sentence(question)\n",
    "    ids, preds = pred_prob_ranking(emb, ans_emb, model)\n",
    "    for i in range(k):\n",
    "        original_idx = ids[i]\n",
    "        item = {}\n",
    "        item['rank'] = i + 1\n",
    "#         item['confidence'] = round(preds[original_idx], 3)\n",
    "        item['answer'] = answers[original_idx]\n",
    "        results.append(item)\n",
    "    return results"
   ]
  },
  {
   "cell_type": "code",
   "execution_count": null,
   "metadata": {
    "collapsed": true
   },
   "outputs": [],
   "source": [
    "u_answers = unique_answers.tolist()\n",
    "bc_ans_embs = bc.encode(u_answers)"
   ]
  },
  {
   "cell_type": "code",
   "execution_count": 210,
   "metadata": {},
   "outputs": [
    {
     "data": {
      "text/plain": [
       "(314, 3)"
      ]
     },
     "execution_count": 210,
     "metadata": {},
     "output_type": "execute_result"
    }
   ],
   "source": [
    "df.shape"
   ]
  },
  {
   "cell_type": "code",
   "execution_count": 236,
   "metadata": {
    "collapsed": true
   },
   "outputs": [],
   "source": [
    "df_trn_one = df_trn[df_trn.label == 1]\n",
    "df_trn_one = df_trn_one.drop_duplicates()\n",
    "random_test = df_trn_one.sample(frac=0.2)"
   ]
  },
  {
   "cell_type": "code",
   "execution_count": 237,
   "metadata": {},
   "outputs": [
    {
     "data": {
      "text/plain": [
       "(53, 4)"
      ]
     },
     "execution_count": 237,
     "metadata": {},
     "output_type": "execute_result"
    }
   ],
   "source": [
    "random_test = random_test.reset_index()\n",
    "random_test.shape"
   ]
  },
  {
   "cell_type": "code",
   "execution_count": 238,
   "metadata": {},
   "outputs": [
    {
     "name": "stdout",
     "output_type": "stream",
     "text": [
      "48\n",
      "53\n"
     ]
    }
   ],
   "source": [
    "pos_count = 0\n",
    "count = 0\n",
    "for i in range(random_test.shape[0]):\n",
    "    q = random_test.question[i]\n",
    "    a = random_test.answer[i]\n",
    "    t = top_k(random_test.question[i], un_ans_embs, ans_list, nn_model, 3)\n",
    "    for item in t:\n",
    "        if item['answer'] == a:\n",
    "            count += 1\n",
    "            break\n",
    "print(count)\n",
    "print(random_test.shape[0])"
   ]
  },
  {
   "cell_type": "code",
   "execution_count": 221,
   "metadata": {},
   "outputs": [
    {
     "name": "stdout",
     "output_type": "stream",
     "text": [
      "successful rate:  0.7872340425531915\n"
     ]
    }
   ],
   "source": [
    "print(\"successful rate: \", count / random_test.shape[0])"
   ]
  },
  {
   "cell_type": "code",
   "execution_count": 196,
   "metadata": {
    "collapsed": true
   },
   "outputs": [],
   "source": [
    "print(\"successful rate: \", count / random_test.shape[0])"
   ]
  },
  {
   "cell_type": "code",
   "execution_count": 198,
   "metadata": {},
   "outputs": [
    {
     "name": "stdout",
     "output_type": "stream",
     "text": [
      "301\n"
     ]
    }
   ],
   "source": [
    "q_idx = {}\n",
    "count = 0\n",
    "for q in q_total:\n",
    "    if q in q_idx:\n",
    "        continue\n",
    "    q_idx[q] = count\n",
    "    count += 1\n",
    "print(len(q_idx))"
   ]
  },
  {
   "cell_type": "code",
   "execution_count": 205,
   "metadata": {
    "collapsed": true
   },
   "outputs": [],
   "source": [
    "q_emb = np.vstack([trn_q_embs, te_q_embs])\n",
    "q_emb_idx = np.array(list(q_idx.values()))\n",
    "un_q_emb = q_emb[q_emb_idx]"
   ]
  },
  {
   "cell_type": "code",
   "execution_count": 207,
   "metadata": {
    "collapsed": true
   },
   "outputs": [],
   "source": [
    "np.save(\"un_q_emb.npy\", un_q_emb)\n",
    "with open(\"q_to_idx.pkl\", \"wb\") as f:\n",
    "    pickle.dump(q_idx, f)"
   ]
  },
  {
   "cell_type": "code",
   "execution_count": 223,
   "metadata": {
    "collapsed": true
   },
   "outputs": [],
   "source": [
    "with open(\"ans_list.pkl\", \"wb\") as f:\n",
    "    pickle.dump(ans_list, f)"
   ]
  },
  {
   "cell_type": "code",
   "execution_count": 224,
   "metadata": {},
   "outputs": [
    {
     "data": {
      "text/plain": [
       "(784, 1536)"
      ]
     },
     "execution_count": 224,
     "metadata": {},
     "output_type": "execute_result"
    }
   ],
   "source": [
    "x_trn.shape"
   ]
  },
  {
   "cell_type": "code",
   "execution_count": null,
   "metadata": {
    "collapsed": true
   },
   "outputs": [],
   "source": []
  }
 ],
 "metadata": {
  "kernelspec": {
   "display_name": "Python 3",
   "language": "python",
   "name": "python3"
  },
  "language_info": {
   "codemirror_mode": {
    "name": "ipython",
    "version": 3
   },
   "file_extension": ".py",
   "mimetype": "text/x-python",
   "name": "python",
   "nbconvert_exporter": "python",
   "pygments_lexer": "ipython3",
   "version": "3.6.8"
  }
 },
 "nbformat": 4,
 "nbformat_minor": 2
}
